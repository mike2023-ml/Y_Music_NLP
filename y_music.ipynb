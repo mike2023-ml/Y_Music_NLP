{
 "cells": [
  {
   "cell_type": "markdown",
   "id": "2df6361d",
   "metadata": {
    "toc": true
   },
   "source": [
    "<h1>Table of Contents<span class=\"tocSkip\"></span></h1>\n",
    "<div class=\"toc\"><ul class=\"toc-item\"><li><span><a href=\"#Гипотезы\" data-toc-modified-id=\"Гипотезы-1\"><span class=\"toc-item-num\">1&nbsp;&nbsp;</span>Гипотезы</a></span></li><li><span><a href=\"#EDA\" data-toc-modified-id=\"EDA-2\"><span class=\"toc-item-num\">2&nbsp;&nbsp;</span>EDA</a></span><ul class=\"toc-item\"><li><span><a href=\"#imports\" data-toc-modified-id=\"imports-2.1\"><span class=\"toc-item-num\">2.1&nbsp;&nbsp;</span>imports</a></span></li><li><span><a href=\"#load_date\" data-toc-modified-id=\"load_date-2.2\"><span class=\"toc-item-num\">2.2&nbsp;&nbsp;</span>load_date</a></span></li><li><span><a href=\"#Lyrics\" data-toc-modified-id=\"Lyrics-2.3\"><span class=\"toc-item-num\">2.3&nbsp;&nbsp;</span>Lyrics</a></span></li><li><span><a href=\"#Covers\" data-toc-modified-id=\"Covers-2.4\"><span class=\"toc-item-num\">2.4&nbsp;&nbsp;</span>Covers</a></span></li><li><span><a href=\"#Meta\" data-toc-modified-id=\"Meta-2.5\"><span class=\"toc-item-num\">2.5&nbsp;&nbsp;</span>Meta</a></span><ul class=\"toc-item\"><li><span><a href=\"#meta.track_id\" data-toc-modified-id=\"meta.track_id-2.5.1\"><span class=\"toc-item-num\">2.5.1&nbsp;&nbsp;</span>meta.track_id</a></span></li><li><span><a href=\"#meta.isrc\" data-toc-modified-id=\"meta.isrc-2.5.2\"><span class=\"toc-item-num\">2.5.2&nbsp;&nbsp;</span>meta.isrc</a></span></li><li><span><a href=\"#meta.title\" data-toc-modified-id=\"meta.title-2.5.3\"><span class=\"toc-item-num\">2.5.3&nbsp;&nbsp;</span>meta.title</a></span></li><li><span><a href=\"#meta.duration\" data-toc-modified-id=\"meta.duration-2.5.4\"><span class=\"toc-item-num\">2.5.4&nbsp;&nbsp;</span>meta.duration</a></span></li><li><span><a href=\"#meta.dttm\" data-toc-modified-id=\"meta.dttm-2.5.5\"><span class=\"toc-item-num\">2.5.5&nbsp;&nbsp;</span>meta.dttm</a></span></li><li><span><a href=\"#meta.genres\" data-toc-modified-id=\"meta.genres-2.5.6\"><span class=\"toc-item-num\">2.5.6&nbsp;&nbsp;</span>meta.genres</a></span></li><li><span><a href=\"#meta.language\" data-toc-modified-id=\"meta.language-2.5.7\"><span class=\"toc-item-num\">2.5.7&nbsp;&nbsp;</span>meta.language</a></span></li></ul></li><li><span><a href=\"#Выводы:\" data-toc-modified-id=\"Выводы:-2.6\"><span class=\"toc-item-num\">2.6&nbsp;&nbsp;</span>Выводы:</a></span></li></ul></li><li><span><a href=\"#Предоработка-данных\" data-toc-modified-id=\"Предоработка-данных-3\"><span class=\"toc-item-num\">3&nbsp;&nbsp;</span>Предоработка данных</a></span><ul class=\"toc-item\"><li><span><a href=\"#Выводы:\" data-toc-modified-id=\"Выводы:-3.1\"><span class=\"toc-item-num\">3.1&nbsp;&nbsp;</span>Выводы:</a></span></li></ul></li><li><span><a href=\"#Фича-инжиниринг:-сгенерировать-дополнительные-признаки\" data-toc-modified-id=\"Фича-инжиниринг:-сгенерировать-дополнительные-признаки-4\"><span class=\"toc-item-num\">4&nbsp;&nbsp;</span>Фича-инжиниринг: сгенерировать дополнительные признаки</a></span></li><li><span><a href=\"#ЗАДАЧА-1:-Классификация-оригинал/кавер\" data-toc-modified-id=\"ЗАДАЧА-1:-Классификация-оригинал/кавер-5\"><span class=\"toc-item-num\">5&nbsp;&nbsp;</span>ЗАДАЧА 1: Классификация оригинал/кавер</a></span><ul class=\"toc-item\"><li><span><a href=\"#Метрики\" data-toc-modified-id=\"Метрики-5.1\"><span class=\"toc-item-num\">5.1&nbsp;&nbsp;</span>Метрики</a></span></li><li><span><a href=\"#Разработка-ML-модели\" data-toc-modified-id=\"Разработка-ML-модели-5.2\"><span class=\"toc-item-num\">5.2&nbsp;&nbsp;</span>Разработка ML-модели</a></span></li></ul></li><li><span><a href=\"#ЗАДАЧА-2:-Поиск-всех-каверов\" data-toc-modified-id=\"ЗАДАЧА-2:-Поиск-всех-каверов-6\"><span class=\"toc-item-num\">6&nbsp;&nbsp;</span>ЗАДАЧА 2: Поиск всех каверов</a></span></li><li><span><a href=\"#Итоговый-вывод:\" data-toc-modified-id=\"Итоговый-вывод:-7\"><span class=\"toc-item-num\">7&nbsp;&nbsp;</span>Итоговый вывод:</a></span></li></ul></div>"
   ]
  },
  {
   "cell_type": "markdown",
   "id": "5f98fc24",
   "metadata": {},
   "source": [
    "# ЯндексМузыка.Поиск каверов"
   ]
  },
  {
   "cell_type": "markdown",
   "id": "fa90ee9a",
   "metadata": {},
   "source": [
    "**Цель проекта:**\n",
    "\n",
    "Улучшение качества рекомендаций музыкального сервиса путем точного определения и\n",
    "классификации каверов.\n",
    "\n",
    "**Задача:**\n",
    "\n",
    "Разработка ML-модели для сопоставления текстов музыкальных произведений и для поиска каверов (вариации обработки оригинала с элементами новой аранжировки) по их текстам"
   ]
  },
  {
   "cell_type": "markdown",
   "source": [
    "## Гипотезы"
   ],
   "metadata": {
    "collapsed": false
   }
  },
  {
   "cell_type": "markdown",
   "source": [
    "**Гипотеза 1:** \n",
    "\n",
    "По названию трека можно определить оригинал или НЕ ОРИГИНАЛ с точностью не менее 70%.\n",
    "\n",
    "**Постановка задачи:**\n",
    "Построить модели бинарной классификации, которая будет определять, является ли трек кавером или оригиналом.\n",
    "\n",
    "**Метрика:**\n",
    "\n",
    "**Предлагаемое решение:**\n",
    "\n",
    "Добавить бинарный признак \"содержит синоним слова \"кавер\" \" и используя регулярки заполнить, например если есть что-то из (см. ниже), то ставим единицу, в противном случае -0:\n",
    "\n",
    "- cover version/cover,\n",
    "- интерпретация, обработка, перепевка,\n",
    "- Interpretation\n",
    "- Version\n",
    "- Remake\n",
    "- Re-Recording\n",
    "- Revisitation\n",
    "- Remix\n",
    "- Updated Version и т.д.\n",
    "\n",
    "Само поле с названием тоже оставить как признак. \n",
    "Использовать катбуст"
   ],
   "metadata": {
    "collapsed": false
   }
  },
  {
   "cell_type": "markdown",
   "id": "3366c72b",
   "metadata": {},
   "source": [
    "**Гипотеза 2а:** \n",
    "\n",
    "По тексту песни и другим имеющимся признакам можно определить (для пары: оригинал и кавер), является оригинал исходной песней для кавера - или нет. Бинарная классификация  \n",
    "\n",
    "**Гипотеза 2б:** \n",
    "\n",
    "Для каждого заданного трека (неважно, дан кавер или оригинал) найти все близкие к нему из имеющейся базы. По тексту песни.\n",
    "\n",
    "Понятие \"Близкие\" еще надо расписать , по какому критерию. Например, схожесть по Левенштейну (или евклидовому расстоянию)>0.9\n"
   ]
  },
  {
   "cell_type": "markdown",
   "id": "0cc7845b",
   "metadata": {},
   "source": [
    "## EDA"
   ]
  },
  {
   "cell_type": "markdown",
   "id": "161191ab",
   "metadata": {},
   "source": [
    "### downloads"
   ]
  },
  {
   "cell_type": "code",
   "execution_count": 1,
   "id": "5f572a13",
   "metadata": {},
   "outputs": [],
   "source": [
    "!pip install -q langdetect"
   ]
  },
  {
   "cell_type": "markdown",
   "id": "c308f46d",
   "metadata": {},
   "source": [
    "### imports"
   ]
  },
  {
   "cell_type": "code",
   "execution_count": 2,
   "id": "b9a76421",
   "metadata": {},
   "outputs": [],
   "source": [
    "import pandas as pd\n",
    "from langdetect import detect"
   ]
  },
  {
   "cell_type": "markdown",
   "id": "5126ccf9",
   "metadata": {},
   "source": [
    "### load_date"
   ]
  },
  {
   "cell_type": "code",
   "execution_count": 3,
   "id": "3a499208",
   "metadata": {
    "scrolled": true
   },
   "outputs": [],
   "source": [
    "covers = pd.read_json('data/covers.json', lines = True)\n",
    "meta = pd.read_json('data/meta.json', lines = True, convert_dates=['dttm'])\n",
    "lyrics = pd.read_json('data/lyrics.json', lines = True)"
   ]
  },
  {
   "cell_type": "markdown",
   "id": "84d57008",
   "metadata": {},
   "source": [
    "### Lyrics\n",
    "Рассмотрим подробнее датасет \"Текст песен\"\n",
    "- track_id - уникальный идентификатор трека;\n",
    "\n",
    "- lyricId - уникальный идентификатор текста;\n",
    "\n",
    "- text - текст трека."
   ]
  },
  {
   "cell_type": "code",
   "execution_count": 4,
   "id": "6e3c75a2",
   "metadata": {
    "scrolled": false
   },
   "outputs": [
    {
     "name": "stdout",
     "output_type": "stream",
     "text": [
      "<class 'pandas.core.frame.DataFrame'>\n",
      "RangeIndex: 11414 entries, 0 to 11413\n",
      "Data columns (total 3 columns):\n",
      " #   Column    Non-Null Count  Dtype \n",
      "---  ------    --------------  ----- \n",
      " 0   lyricId   11414 non-null  object\n",
      " 1   text      11414 non-null  object\n",
      " 2   track_id  11414 non-null  object\n",
      "dtypes: object(3)\n",
      "memory usage: 267.6+ KB\n"
     ]
    },
    {
     "data": {
      "text/html": [
       "<div>\n",
       "<style scoped>\n",
       "    .dataframe tbody tr th:only-of-type {\n",
       "        vertical-align: middle;\n",
       "    }\n",
       "\n",
       "    .dataframe tbody tr th {\n",
       "        vertical-align: top;\n",
       "    }\n",
       "\n",
       "    .dataframe thead th {\n",
       "        text-align: right;\n",
       "    }\n",
       "</style>\n",
       "<table border=\"1\" class=\"dataframe\">\n",
       "  <thead>\n",
       "    <tr style=\"text-align: right;\">\n",
       "      <th></th>\n",
       "      <th>lyricId</th>\n",
       "      <th>text</th>\n",
       "      <th>track_id</th>\n",
       "    </tr>\n",
       "  </thead>\n",
       "  <tbody>\n",
       "    <tr>\n",
       "      <th>0</th>\n",
       "      <td>a951f9504e89759e9d23039b7b17ec14</td>\n",
       "      <td>Живу сейчас обломами, обломками не той любви\\n...</td>\n",
       "      <td>1c4b1230f937e4c548ff732523214dcd</td>\n",
       "    </tr>\n",
       "    <tr>\n",
       "      <th>1</th>\n",
       "      <td>0c749bc3f01eb8e6cf986fa14ccfc585</td>\n",
       "      <td>Tell me your fable\\nA fable\\nTell me your fabl...</td>\n",
       "      <td>0faea89b0d7d6235b5b74def72511bd8</td>\n",
       "    </tr>\n",
       "    <tr>\n",
       "      <th>2</th>\n",
       "      <td>e2c8830fbc86e5964478243099eec23a</td>\n",
       "      <td>You're ashamed about all your fears and doubts...</td>\n",
       "      <td>9c6dc41d5ccd9968d07f055da5d8f741</td>\n",
       "    </tr>\n",
       "  </tbody>\n",
       "</table>\n",
       "</div>"
      ],
      "text/plain": [
       "                            lyricId  \\\n",
       "0  a951f9504e89759e9d23039b7b17ec14   \n",
       "1  0c749bc3f01eb8e6cf986fa14ccfc585   \n",
       "2  e2c8830fbc86e5964478243099eec23a   \n",
       "\n",
       "                                                text  \\\n",
       "0  Живу сейчас обломами, обломками не той любви\\n...   \n",
       "1  Tell me your fable\\nA fable\\nTell me your fabl...   \n",
       "2  You're ashamed about all your fears and doubts...   \n",
       "\n",
       "                           track_id  \n",
       "0  1c4b1230f937e4c548ff732523214dcd  \n",
       "1  0faea89b0d7d6235b5b74def72511bd8  \n",
       "2  9c6dc41d5ccd9968d07f055da5d8f741  "
      ]
     },
     "execution_count": 4,
     "metadata": {},
     "output_type": "execute_result"
    }
   ],
   "source": [
    "lyrics.info()\n",
    "lyrics.head(3)"
   ]
  },
  {
   "cell_type": "code",
   "execution_count": 5,
   "id": "bd4663b3",
   "metadata": {},
   "outputs": [
    {
     "data": {
      "text/plain": [
       "(0, 1137)"
      ]
     },
     "execution_count": 5,
     "metadata": {},
     "output_type": "execute_result"
    }
   ],
   "source": [
    "# Пропуски и дубликаты в track_id\n",
    "lyrics['track_id'].isna().sum(), lyrics['track_id'].duplicated().sum()"
   ]
  },
  {
   "cell_type": "code",
   "execution_count": 6,
   "id": "f10ea7ef",
   "metadata": {},
   "outputs": [
    {
     "data": {
      "text/html": [
       "<div>\n",
       "<style scoped>\n",
       "    .dataframe tbody tr th:only-of-type {\n",
       "        vertical-align: middle;\n",
       "    }\n",
       "\n",
       "    .dataframe tbody tr th {\n",
       "        vertical-align: top;\n",
       "    }\n",
       "\n",
       "    .dataframe thead th {\n",
       "        text-align: right;\n",
       "    }\n",
       "</style>\n",
       "<table border=\"1\" class=\"dataframe\">\n",
       "  <thead>\n",
       "    <tr style=\"text-align: right;\">\n",
       "      <th></th>\n",
       "      <th>lyricId</th>\n",
       "      <th>text</th>\n",
       "      <th>track_id</th>\n",
       "    </tr>\n",
       "  </thead>\n",
       "  <tbody>\n",
       "    <tr>\n",
       "      <th>3305</th>\n",
       "      <td>23fc4e63cb643861138fc62c83c77e99</td>\n",
       "      <td>\"Show me show me show me how you do that trick...</td>\n",
       "      <td>701dc20b28f07b952812d182278a5e55</td>\n",
       "    </tr>\n",
       "    <tr>\n",
       "      <th>3304</th>\n",
       "      <td>23fc4e63cb643861138fc62c83c77e99</td>\n",
       "      <td>\"Show me show me show me how you do that trick...</td>\n",
       "      <td>b6f3fcfc0ca3c5ac84cdb55f916d6b25</td>\n",
       "    </tr>\n",
       "    <tr>\n",
       "      <th>4852</th>\n",
       "      <td>53c10cb6921925856eeefdfa84eb6806</td>\n",
       "      <td>\"Ничто\" на дне, помоги достать мне, и я помогу...</td>\n",
       "      <td>98b6810d5545436a156c7df7f3a861be</td>\n",
       "    </tr>\n",
       "    <tr>\n",
       "      <th>4851</th>\n",
       "      <td>53c10cb6921925856eeefdfa84eb6806</td>\n",
       "      <td>\"Ничто\" на дне, помоги достать мне, и я помогу...</td>\n",
       "      <td>ca85692f15021f3e58ccf518d7ba3c97</td>\n",
       "    </tr>\n",
       "    <tr>\n",
       "      <th>4850</th>\n",
       "      <td>53c10cb6921925856eeefdfa84eb6806</td>\n",
       "      <td>\"Ничто\" на дне, помоги достать мне, и я помогу...</td>\n",
       "      <td>7eaba8513b9401fc1d3d01107ee6a3c6</td>\n",
       "    </tr>\n",
       "    <tr>\n",
       "      <th>...</th>\n",
       "      <td>...</td>\n",
       "      <td>...</td>\n",
       "      <td>...</td>\n",
       "    </tr>\n",
       "    <tr>\n",
       "      <th>4260</th>\n",
       "      <td>2bcd1f2f81ca13348de05d563998af00</td>\n",
       "      <td>Ярость глубинная оживает,\\nСталью сияя, рвётся...</td>\n",
       "      <td>814e2dc18df877e6ccefd95428565973</td>\n",
       "    </tr>\n",
       "    <tr>\n",
       "      <th>2882</th>\n",
       "      <td>93060f74359a18c4d775f39424e3d7d8</td>\n",
       "      <td>รู้ ขอแค่เวลาอีกหน่อย\\nที่จะทำให้ความวุ่นวาย\\n...</td>\n",
       "      <td>2777f6f213a535155f10ccb46014f0e3</td>\n",
       "    </tr>\n",
       "    <tr>\n",
       "      <th>2883</th>\n",
       "      <td>93060f74359a18c4d775f39424e3d7d8</td>\n",
       "      <td>รู้ ขอแค่เวลาอีกหน่อย\\nที่จะทำให้ความวุ่นวาย\\n...</td>\n",
       "      <td>c9010a9e75b9ec48dcf952ef8e268ea9</td>\n",
       "    </tr>\n",
       "    <tr>\n",
       "      <th>9477</th>\n",
       "      <td>5171df14636ba3b6620dc2dd9d6984d0</td>\n",
       "      <td>故事的小黄花\\n从出生那年就飘着\\n童年的荡秋千\\n随记忆一直晃到现在\\nRui sou s...</td>\n",
       "      <td>ef745b6be5ec40b4ae697fc0c7630c73</td>\n",
       "    </tr>\n",
       "    <tr>\n",
       "      <th>9476</th>\n",
       "      <td>5171df14636ba3b6620dc2dd9d6984d0</td>\n",
       "      <td>故事的小黄花\\n从出生那年就飘着\\n童年的荡秋千\\n随记忆一直晃到现在\\nRui sou s...</td>\n",
       "      <td>1fdaca39f72a007ea652d86c35e70c8d</td>\n",
       "    </tr>\n",
       "  </tbody>\n",
       "</table>\n",
       "<p>873 rows × 3 columns</p>\n",
       "</div>"
      ],
      "text/plain": [
       "                               lyricId  \\\n",
       "3305  23fc4e63cb643861138fc62c83c77e99   \n",
       "3304  23fc4e63cb643861138fc62c83c77e99   \n",
       "4852  53c10cb6921925856eeefdfa84eb6806   \n",
       "4851  53c10cb6921925856eeefdfa84eb6806   \n",
       "4850  53c10cb6921925856eeefdfa84eb6806   \n",
       "...                                ...   \n",
       "4260  2bcd1f2f81ca13348de05d563998af00   \n",
       "2882  93060f74359a18c4d775f39424e3d7d8   \n",
       "2883  93060f74359a18c4d775f39424e3d7d8   \n",
       "9477  5171df14636ba3b6620dc2dd9d6984d0   \n",
       "9476  5171df14636ba3b6620dc2dd9d6984d0   \n",
       "\n",
       "                                                   text  \\\n",
       "3305  \"Show me show me show me how you do that trick...   \n",
       "3304  \"Show me show me show me how you do that trick...   \n",
       "4852  \"Ничто\" на дне, помоги достать мне, и я помогу...   \n",
       "4851  \"Ничто\" на дне, помоги достать мне, и я помогу...   \n",
       "4850  \"Ничто\" на дне, помоги достать мне, и я помогу...   \n",
       "...                                                 ...   \n",
       "4260  Ярость глубинная оживает,\\nСталью сияя, рвётся...   \n",
       "2882  รู้ ขอแค่เวลาอีกหน่อย\\nที่จะทำให้ความวุ่นวาย\\n...   \n",
       "2883  รู้ ขอแค่เวลาอีกหน่อย\\nที่จะทำให้ความวุ่นวาย\\n...   \n",
       "9477  故事的小黄花\\n从出生那年就飘着\\n童年的荡秋千\\n随记忆一直晃到现在\\nRui sou s...   \n",
       "9476  故事的小黄花\\n从出生那年就飘着\\n童年的荡秋千\\n随记忆一直晃到现在\\nRui sou s...   \n",
       "\n",
       "                              track_id  \n",
       "3305  701dc20b28f07b952812d182278a5e55  \n",
       "3304  b6f3fcfc0ca3c5ac84cdb55f916d6b25  \n",
       "4852  98b6810d5545436a156c7df7f3a861be  \n",
       "4851  ca85692f15021f3e58ccf518d7ba3c97  \n",
       "4850  7eaba8513b9401fc1d3d01107ee6a3c6  \n",
       "...                                ...  \n",
       "4260  814e2dc18df877e6ccefd95428565973  \n",
       "2882  2777f6f213a535155f10ccb46014f0e3  \n",
       "2883  c9010a9e75b9ec48dcf952ef8e268ea9  \n",
       "9477  ef745b6be5ec40b4ae697fc0c7630c73  \n",
       "9476  1fdaca39f72a007ea652d86c35e70c8d  \n",
       "\n",
       "[873 rows x 3 columns]"
      ]
     },
     "execution_count": 6,
     "metadata": {},
     "output_type": "execute_result"
    }
   ],
   "source": [
    "# не дублированы только track_id\n",
    "lyrics[lyrics['text'].duplicated(keep=False) & lyrics['lyricId'].duplicated(keep=False)].sort_values(by='text')"
   ]
  },
  {
   "cell_type": "code",
   "execution_count": 7,
   "id": "e0560a45",
   "metadata": {},
   "outputs": [
    {
     "data": {
      "text/html": [
       "<div>\n",
       "<style scoped>\n",
       "    .dataframe tbody tr th:only-of-type {\n",
       "        vertical-align: middle;\n",
       "    }\n",
       "\n",
       "    .dataframe tbody tr th {\n",
       "        vertical-align: top;\n",
       "    }\n",
       "\n",
       "    .dataframe thead th {\n",
       "        text-align: right;\n",
       "    }\n",
       "</style>\n",
       "<table border=\"1\" class=\"dataframe\">\n",
       "  <thead>\n",
       "    <tr style=\"text-align: right;\">\n",
       "      <th></th>\n",
       "      <th>lyricId</th>\n",
       "      <th>text</th>\n",
       "      <th>track_id</th>\n",
       "    </tr>\n",
       "  </thead>\n",
       "  <tbody>\n",
       "    <tr>\n",
       "      <th>10681</th>\n",
       "      <td>039236cf5355b4a81a7d5e689dbbf00a</td>\n",
       "      <td>Hearts go astray\\nLeaving hurt when they go\\nI...</td>\n",
       "      <td>0021519c8533f1116591948bbb349aef</td>\n",
       "    </tr>\n",
       "    <tr>\n",
       "      <th>10686</th>\n",
       "      <td>0abe3bb343894590423064dee2d2a114</td>\n",
       "      <td>Hearts go astray\\nLeaving hurt when they go\\nI...</td>\n",
       "      <td>0021519c8533f1116591948bbb349aef</td>\n",
       "    </tr>\n",
       "    <tr>\n",
       "      <th>10676</th>\n",
       "      <td>745f700051961898c65ffdafd9793584</td>\n",
       "      <td>Hearts go astray\\nLeaving hurt when they go\\nI...</td>\n",
       "      <td>0021519c8533f1116591948bbb349aef</td>\n",
       "    </tr>\n",
       "    <tr>\n",
       "      <th>4796</th>\n",
       "      <td>9ee5ee7522b5b6d045a2d276a040d00c</td>\n",
       "      <td>If I stay with you, if I'm choosing wrong\\nI d...</td>\n",
       "      <td>0102189356af15ad0be804eddd9bc24a</td>\n",
       "    </tr>\n",
       "    <tr>\n",
       "      <th>11306</th>\n",
       "      <td>1682f991cfa94d1440bef2aa417edec7</td>\n",
       "      <td>If I stay with you, if I'm choosing wrong\\nI d...</td>\n",
       "      <td>0102189356af15ad0be804eddd9bc24a</td>\n",
       "    </tr>\n",
       "    <tr>\n",
       "      <th>...</th>\n",
       "      <td>...</td>\n",
       "      <td>...</td>\n",
       "      <td>...</td>\n",
       "    </tr>\n",
       "    <tr>\n",
       "      <th>11229</th>\n",
       "      <td>b2bd7e1c3e5b8987b0a7df143a2c3c0f</td>\n",
       "      <td>I cover the waterfront,\\nI'm watching the sea,...</td>\n",
       "      <td>ff54e3bcd7ef7aeb41c91f9abeac9c68</td>\n",
       "    </tr>\n",
       "    <tr>\n",
       "      <th>11228</th>\n",
       "      <td>ed694fc7bdf247b249020ef155514173</td>\n",
       "      <td>I cover the waterfront,\\nI'm watching the sea,...</td>\n",
       "      <td>ff54e3bcd7ef7aeb41c91f9abeac9c68</td>\n",
       "    </tr>\n",
       "    <tr>\n",
       "      <th>8895</th>\n",
       "      <td>c8af153ec09b0a087e79a0f77f7310bd</td>\n",
       "      <td>Don't go tonight\\nStay here one more time\\nRem...</td>\n",
       "      <td>ff77df3ccccd54654ea4b2209dd6e38c</td>\n",
       "    </tr>\n",
       "    <tr>\n",
       "      <th>8881</th>\n",
       "      <td>d9107cc98fb6dc91853ea69ac98f1d58</td>\n",
       "      <td>Don't go tonight\\nStay here one more time\\nRem...</td>\n",
       "      <td>ff77df3ccccd54654ea4b2209dd6e38c</td>\n",
       "    </tr>\n",
       "    <tr>\n",
       "      <th>8053</th>\n",
       "      <td>6a50f88b4e071c780fa48e059fa9e60b</td>\n",
       "      <td>Don't go tonight\\nStay here one more time\\nRem...</td>\n",
       "      <td>ff77df3ccccd54654ea4b2209dd6e38c</td>\n",
       "    </tr>\n",
       "  </tbody>\n",
       "</table>\n",
       "<p>1774 rows × 3 columns</p>\n",
       "</div>"
      ],
      "text/plain": [
       "                                lyricId  \\\n",
       "10681  039236cf5355b4a81a7d5e689dbbf00a   \n",
       "10686  0abe3bb343894590423064dee2d2a114   \n",
       "10676  745f700051961898c65ffdafd9793584   \n",
       "4796   9ee5ee7522b5b6d045a2d276a040d00c   \n",
       "11306  1682f991cfa94d1440bef2aa417edec7   \n",
       "...                                 ...   \n",
       "11229  b2bd7e1c3e5b8987b0a7df143a2c3c0f   \n",
       "11228  ed694fc7bdf247b249020ef155514173   \n",
       "8895   c8af153ec09b0a087e79a0f77f7310bd   \n",
       "8881   d9107cc98fb6dc91853ea69ac98f1d58   \n",
       "8053   6a50f88b4e071c780fa48e059fa9e60b   \n",
       "\n",
       "                                                    text  \\\n",
       "10681  Hearts go astray\\nLeaving hurt when they go\\nI...   \n",
       "10686  Hearts go astray\\nLeaving hurt when they go\\nI...   \n",
       "10676  Hearts go astray\\nLeaving hurt when they go\\nI...   \n",
       "4796   If I stay with you, if I'm choosing wrong\\nI d...   \n",
       "11306  If I stay with you, if I'm choosing wrong\\nI d...   \n",
       "...                                                  ...   \n",
       "11229  I cover the waterfront,\\nI'm watching the sea,...   \n",
       "11228  I cover the waterfront,\\nI'm watching the sea,...   \n",
       "8895   Don't go tonight\\nStay here one more time\\nRem...   \n",
       "8881   Don't go tonight\\nStay here one more time\\nRem...   \n",
       "8053   Don't go tonight\\nStay here one more time\\nRem...   \n",
       "\n",
       "                               track_id  \n",
       "10681  0021519c8533f1116591948bbb349aef  \n",
       "10686  0021519c8533f1116591948bbb349aef  \n",
       "10676  0021519c8533f1116591948bbb349aef  \n",
       "4796   0102189356af15ad0be804eddd9bc24a  \n",
       "11306  0102189356af15ad0be804eddd9bc24a  \n",
       "...                                 ...  \n",
       "11229  ff54e3bcd7ef7aeb41c91f9abeac9c68  \n",
       "11228  ff54e3bcd7ef7aeb41c91f9abeac9c68  \n",
       "8895   ff77df3ccccd54654ea4b2209dd6e38c  \n",
       "8881   ff77df3ccccd54654ea4b2209dd6e38c  \n",
       "8053   ff77df3ccccd54654ea4b2209dd6e38c  \n",
       "\n",
       "[1774 rows x 3 columns]"
      ]
     },
     "execution_count": 7,
     "metadata": {},
     "output_type": "execute_result"
    }
   ],
   "source": [
    "# Дубли по track_id\n",
    "# при одтнаковых track_id текст разный\n",
    "lyrics[lyrics['track_id'].duplicated(keep=False)].sort_values(by='track_id')"
   ]
  },
  {
   "cell_type": "markdown",
   "id": "51016fa4",
   "metadata": {},
   "source": [
    "Заметили, что есть"
   ]
  },
  {
   "cell_type": "markdown",
   "id": "8609e7f3",
   "metadata": {},
   "source": [
    "### Covers\n",
    "Файл covers.json содержит разметку каверов, сделанную редакторами сервиса:\n",
    "- track_id - уникальный идентификатор трека;\n",
    "- track_remake_type - метка, присвоенная редакторами. Может принимать значения ORIGINAL и COVER;\n",
    "- original_track_id - уникальный идентификатор исходного трека."
   ]
  },
  {
   "cell_type": "markdown",
   "id": "d6094087",
   "metadata": {},
   "source": [
    "Посмотрим долю каверов в датасете"
   ]
  },
  {
   "cell_type": "code",
   "execution_count": 8,
   "id": "a3355a7c",
   "metadata": {
    "scrolled": true
   },
   "outputs": [
    {
     "name": "stdout",
     "output_type": "stream",
     "text": [
      "track_remake_type\n",
      "COVER       67304\n",
      "ORIGINAL     4293\n",
      "Name: count, dtype: int64\n"
     ]
    },
    {
     "data": {
      "image/png": "[encoded data removed]",
      "text/plain": [
       "<Figure size 500x600 with 1 Axes>"
      ]
     },
     "metadata": {},
     "output_type": "display_data"
    }
   ],
   "source": [
    "print(covers.track_remake_type.value_counts())\n",
    "covers.track_remake_type.value_counts().plot(kind='pie', figsize=(5,6), label='type');"
   ]
  },
  {
   "cell_type": "markdown",
   "id": "8a6a445c",
   "metadata": {},
   "source": [
    "Проверим, сколько из всех каверов имеют заполненное поле с оригинальным треком:"
   ]
  },
  {
   "cell_type": "code",
   "execution_count": 9,
   "id": "119fa3b2",
   "metadata": {
    "scrolled": true
   },
   "outputs": [
    {
     "data": {
      "text/html": [
       "<div>\n",
       "<style scoped>\n",
       "    .dataframe tbody tr th:only-of-type {\n",
       "        vertical-align: middle;\n",
       "    }\n",
       "\n",
       "    .dataframe tbody tr th {\n",
       "        vertical-align: top;\n",
       "    }\n",
       "\n",
       "    .dataframe thead th {\n",
       "        text-align: right;\n",
       "    }\n",
       "</style>\n",
       "<table border=\"1\" class=\"dataframe\">\n",
       "  <thead>\n",
       "    <tr style=\"text-align: right;\">\n",
       "      <th></th>\n",
       "      <th>original_track_id</th>\n",
       "      <th>track_id</th>\n",
       "      <th>track_remake_type</th>\n",
       "    </tr>\n",
       "  </thead>\n",
       "  <tbody>\n",
       "    <tr>\n",
       "      <th>33</th>\n",
       "      <td>b9213d37c37deffe8b8af0dac5d0c3c4</td>\n",
       "      <td>58a293c4c86b4c0000b0e683c77432a8</td>\n",
       "      <td>COVER</td>\n",
       "    </tr>\n",
       "    <tr>\n",
       "      <th>40</th>\n",
       "      <td>deb9b9598176a0bab1212d430b10bd04</td>\n",
       "      <td>bfa9c5c62c08a0db763e2a2284e3d1b2</td>\n",
       "      <td>COVER</td>\n",
       "    </tr>\n",
       "    <tr>\n",
       "      <th>51</th>\n",
       "      <td>b9213d37c37deffe8b8af0dac5d0c3c4</td>\n",
       "      <td>79eb48bb4409051aab1602e390c98736</td>\n",
       "      <td>COVER</td>\n",
       "    </tr>\n",
       "    <tr>\n",
       "      <th>60</th>\n",
       "      <td>b9213d37c37deffe8b8af0dac5d0c3c4</td>\n",
       "      <td>a106cea5c02ed8a70b421831cc4e7192</td>\n",
       "      <td>COVER</td>\n",
       "    </tr>\n",
       "    <tr>\n",
       "      <th>67</th>\n",
       "      <td>b9213d37c37deffe8b8af0dac5d0c3c4</td>\n",
       "      <td>7c9052caed90949c46c171951cd9dc3d</td>\n",
       "      <td>COVER</td>\n",
       "    </tr>\n",
       "    <tr>\n",
       "      <th>...</th>\n",
       "      <td>...</td>\n",
       "      <td>...</td>\n",
       "      <td>...</td>\n",
       "    </tr>\n",
       "    <tr>\n",
       "      <th>70720</th>\n",
       "      <td>25b8e40b7fa4df88af70590ee44bb820</td>\n",
       "      <td>af95d0aa50dc1934de870c7cc0adafc7</td>\n",
       "      <td>COVER</td>\n",
       "    </tr>\n",
       "    <tr>\n",
       "      <th>70721</th>\n",
       "      <td>8eb966d9b7b88b0816b70f7d47a963df</td>\n",
       "      <td>0a89e59f9216b80f5619b4faa8e3753a</td>\n",
       "      <td>COVER</td>\n",
       "    </tr>\n",
       "    <tr>\n",
       "      <th>70932</th>\n",
       "      <td>efb09c8e01086753d9ed9119a88d8748</td>\n",
       "      <td>ddcaf83d03b764f17bf3adb35fd93dcf</td>\n",
       "      <td>COVER</td>\n",
       "    </tr>\n",
       "    <tr>\n",
       "      <th>71003</th>\n",
       "      <td>a6bea0f1418b5e768b689604e11d111d</td>\n",
       "      <td>4db9bfa70567a07578ad151df3b7f36c</td>\n",
       "      <td>COVER</td>\n",
       "    </tr>\n",
       "    <tr>\n",
       "      <th>71323</th>\n",
       "      <td>96437a3517f1f408381363bc8d539718</td>\n",
       "      <td>16cd4a1aabf7870afda93320dbd4698c</td>\n",
       "      <td>COVER</td>\n",
       "    </tr>\n",
       "  </tbody>\n",
       "</table>\n",
       "<p>528 rows × 3 columns</p>\n",
       "</div>"
      ],
      "text/plain": [
       "                      original_track_id                          track_id  \\\n",
       "33     b9213d37c37deffe8b8af0dac5d0c3c4  58a293c4c86b4c0000b0e683c77432a8   \n",
       "40     deb9b9598176a0bab1212d430b10bd04  bfa9c5c62c08a0db763e2a2284e3d1b2   \n",
       "51     b9213d37c37deffe8b8af0dac5d0c3c4  79eb48bb4409051aab1602e390c98736   \n",
       "60     b9213d37c37deffe8b8af0dac5d0c3c4  a106cea5c02ed8a70b421831cc4e7192   \n",
       "67     b9213d37c37deffe8b8af0dac5d0c3c4  7c9052caed90949c46c171951cd9dc3d   \n",
       "...                                 ...                               ...   \n",
       "70720  25b8e40b7fa4df88af70590ee44bb820  af95d0aa50dc1934de870c7cc0adafc7   \n",
       "70721  8eb966d9b7b88b0816b70f7d47a963df  0a89e59f9216b80f5619b4faa8e3753a   \n",
       "70932  efb09c8e01086753d9ed9119a88d8748  ddcaf83d03b764f17bf3adb35fd93dcf   \n",
       "71003  a6bea0f1418b5e768b689604e11d111d  4db9bfa70567a07578ad151df3b7f36c   \n",
       "71323  96437a3517f1f408381363bc8d539718  16cd4a1aabf7870afda93320dbd4698c   \n",
       "\n",
       "      track_remake_type  \n",
       "33                COVER  \n",
       "40                COVER  \n",
       "51                COVER  \n",
       "60                COVER  \n",
       "67                COVER  \n",
       "...                 ...  \n",
       "70720             COVER  \n",
       "70721             COVER  \n",
       "70932             COVER  \n",
       "71003             COVER  \n",
       "71323             COVER  \n",
       "\n",
       "[528 rows x 3 columns]"
      ]
     },
     "execution_count": 9,
     "metadata": {},
     "output_type": "execute_result"
    }
   ],
   "source": [
    "covers.loc[(covers.track_remake_type=='COVER') & (covers.original_track_id.isnull()==False)]"
   ]
  },
  {
   "cell_type": "markdown",
   "id": "29215edc",
   "metadata": {},
   "source": [
    "Выводы:\n",
    "Всего дано 67304 каверов, из низ с известным (размеченным) оригиналом - только 528"
   ]
  },
  {
   "cell_type": "markdown",
   "id": "2fc7a849",
   "metadata": {},
   "source": [
    "### Meta\n",
    "Рассмотрим подробнее датасет - Метаинформация:\n",
    "- track_id - уникальный идентификатор трека;\n",
    "- dttm - первая дата появления информации о треке;\n",
    "- title - название трека;\n",
    "- language - язык исполнения;\n",
    "- isrc - международный уникальный идентификатор трека;\n",
    "- genres - жанры;\n",
    "- duration - длительность трека;"
   ]
  },
  {
   "cell_type": "code",
   "execution_count": 10,
   "id": "e1e835b5",
   "metadata": {},
   "outputs": [
    {
     "data": {
      "text/html": [
       "<div>\n",
       "<style scoped>\n",
       "    .dataframe tbody tr th:only-of-type {\n",
       "        vertical-align: middle;\n",
       "    }\n",
       "\n",
       "    .dataframe tbody tr th {\n",
       "        vertical-align: top;\n",
       "    }\n",
       "\n",
       "    .dataframe thead th {\n",
       "        text-align: right;\n",
       "    }\n",
       "</style>\n",
       "<table border=\"1\" class=\"dataframe\">\n",
       "  <thead>\n",
       "    <tr style=\"text-align: right;\">\n",
       "      <th></th>\n",
       "      <th>track_id</th>\n",
       "      <th>dttm</th>\n",
       "      <th>title</th>\n",
       "      <th>language</th>\n",
       "      <th>isrc</th>\n",
       "      <th>genres</th>\n",
       "      <th>duration</th>\n",
       "    </tr>\n",
       "  </thead>\n",
       "  <tbody>\n",
       "    <tr>\n",
       "      <th>0</th>\n",
       "      <td>c3b9d6a354ca008aa4518329aaa21380</td>\n",
       "      <td>2021-12-16 21:00:00</td>\n",
       "      <td>Happy New Year</td>\n",
       "      <td>EN</td>\n",
       "      <td>RUB422103970</td>\n",
       "      <td>[DANCE]</td>\n",
       "      <td>161120.0</td>\n",
       "    </tr>\n",
       "    <tr>\n",
       "      <th>1</th>\n",
       "      <td>c57e3d13bbbf5322584a7e92e6f1f7ff</td>\n",
       "      <td>2021-11-24 14:00:33</td>\n",
       "      <td>Bad Habits</td>\n",
       "      <td>EN</td>\n",
       "      <td>QZN882178276</td>\n",
       "      <td>[ELECTRONICS]</td>\n",
       "      <td>362260.0</td>\n",
       "    </tr>\n",
       "    <tr>\n",
       "      <th>2</th>\n",
       "      <td>955f2aafe8717908c140bf122ba4172d</td>\n",
       "      <td>2021-11-24 15:37:03</td>\n",
       "      <td>Por Esa Loca Vanidad</td>\n",
       "      <td>None</td>\n",
       "      <td>QZNJZ2122549</td>\n",
       "      <td>[FOLK, LATINFOLK]</td>\n",
       "      <td>260000.0</td>\n",
       "    </tr>\n",
       "  </tbody>\n",
       "</table>\n",
       "</div>"
      ],
      "text/plain": [
       "                           track_id                dttm                 title  \\\n",
       "0  c3b9d6a354ca008aa4518329aaa21380 2021-12-16 21:00:00        Happy New Year   \n",
       "1  c57e3d13bbbf5322584a7e92e6f1f7ff 2021-11-24 14:00:33            Bad Habits   \n",
       "2  955f2aafe8717908c140bf122ba4172d 2021-11-24 15:37:03  Por Esa Loca Vanidad   \n",
       "\n",
       "  language          isrc             genres  duration  \n",
       "0       EN  RUB422103970            [DANCE]  161120.0  \n",
       "1       EN  QZN882178276      [ELECTRONICS]  362260.0  \n",
       "2     None  QZNJZ2122549  [FOLK, LATINFOLK]  260000.0  "
      ]
     },
     "execution_count": 10,
     "metadata": {},
     "output_type": "execute_result"
    }
   ],
   "source": [
    "meta.head(3)"
   ]
  },
  {
   "cell_type": "code",
   "execution_count": 11,
   "id": "59968e30",
   "metadata": {
    "scrolled": true
   },
   "outputs": [
    {
     "name": "stdout",
     "output_type": "stream",
     "text": [
      "<class 'pandas.core.frame.DataFrame'>\n",
      "RangeIndex: 71769 entries, 0 to 71768\n",
      "Data columns (total 7 columns):\n",
      " #   Column    Non-Null Count  Dtype         \n",
      "---  ------    --------------  -----         \n",
      " 0   track_id  71768 non-null  object        \n",
      " 1   dttm      71768 non-null  datetime64[ns]\n",
      " 2   title     71768 non-null  object        \n",
      " 3   language  21969 non-null  object        \n",
      " 4   isrc      71455 non-null  object        \n",
      " 5   genres    71768 non-null  object        \n",
      " 6   duration  71768 non-null  float64       \n",
      "dtypes: datetime64[ns](1), float64(1), object(5)\n",
      "memory usage: 3.8+ MB\n"
     ]
    }
   ],
   "source": [
    "meta.info()"
   ]
  },
  {
   "cell_type": "markdown",
   "id": "2cbd141d",
   "metadata": {},
   "source": [
    "Есть большое кол-во пропусков в колонке language и немного в isrc. "
   ]
  },
  {
   "cell_type": "markdown",
   "id": "11e8e43c",
   "metadata": {},
   "source": [
    "#### meta.track_id"
   ]
  },
  {
   "cell_type": "markdown",
   "id": "343b6ebd",
   "metadata": {},
   "source": [
    "Посмотрим дубли в уникальном идентификаторе track_id:"
   ]
  },
  {
   "cell_type": "code",
   "execution_count": 12,
   "id": "a60d7928",
   "metadata": {},
   "outputs": [
    {
     "data": {
      "text/plain": [
       "0"
      ]
     },
     "execution_count": 12,
     "metadata": {},
     "output_type": "execute_result"
    }
   ],
   "source": [
    " meta['track_id'].duplicated().sum()"
   ]
  },
  {
   "cell_type": "markdown",
   "id": "580ea4d3",
   "metadata": {},
   "source": [
    "#### meta.isrc"
   ]
  },
  {
   "cell_type": "markdown",
   "id": "f18735ba",
   "metadata": {},
   "source": [
    "Посмотрим дубли в международном уникальном идентификаторе isrc:"
   ]
  },
  {
   "cell_type": "code",
   "execution_count": 13,
   "id": "df2bd9d0",
   "metadata": {
    "scrolled": true
   },
   "outputs": [
    {
     "data": {
      "text/html": [
       "<div>\n",
       "<style scoped>\n",
       "    .dataframe tbody tr th:only-of-type {\n",
       "        vertical-align: middle;\n",
       "    }\n",
       "\n",
       "    .dataframe tbody tr th {\n",
       "        vertical-align: top;\n",
       "    }\n",
       "\n",
       "    .dataframe thead th {\n",
       "        text-align: right;\n",
       "    }\n",
       "</style>\n",
       "<table border=\"1\" class=\"dataframe\">\n",
       "  <thead>\n",
       "    <tr style=\"text-align: right;\">\n",
       "      <th></th>\n",
       "      <th>track_id</th>\n",
       "      <th>dttm</th>\n",
       "      <th>title</th>\n",
       "      <th>language</th>\n",
       "      <th>isrc</th>\n",
       "      <th>genres</th>\n",
       "      <th>duration</th>\n",
       "    </tr>\n",
       "  </thead>\n",
       "  <tbody>\n",
       "    <tr>\n",
       "      <th>27012</th>\n",
       "      <td>be0233f57dbb59079929ac646b0b9d5c</td>\n",
       "      <td>2021-07-06 16:38:30</td>\n",
       "      <td>Zivot da stane ne sme</td>\n",
       "      <td>None</td>\n",
       "      <td>ATAJ12100470</td>\n",
       "      <td>[FOLK]</td>\n",
       "      <td>151190.0</td>\n",
       "    </tr>\n",
       "    <tr>\n",
       "      <th>26955</th>\n",
       "      <td>8aff9d28865aaf1fa44e46b82cba0f63</td>\n",
       "      <td>2021-07-06 15:38:37</td>\n",
       "      <td>Burma</td>\n",
       "      <td>None</td>\n",
       "      <td>ATAJ12100470</td>\n",
       "      <td>[FOLK]</td>\n",
       "      <td>179300.0</td>\n",
       "    </tr>\n",
       "    <tr>\n",
       "      <th>51052</th>\n",
       "      <td>196a0973d73122891a426f8334105ce7</td>\n",
       "      <td>2019-03-29 21:00:00</td>\n",
       "      <td>Inní mér syngur vitleysingur</td>\n",
       "      <td>EN</td>\n",
       "      <td>ATN261668711</td>\n",
       "      <td>[FOLKMETAL, METAL]</td>\n",
       "      <td>237010.0</td>\n",
       "    </tr>\n",
       "    <tr>\n",
       "      <th>66395</th>\n",
       "      <td>425761c88ebc69e89c748eb537671953</td>\n",
       "      <td>2018-04-28 19:08:26</td>\n",
       "      <td>Inni Mer Syngur Vitleysingur</td>\n",
       "      <td>None</td>\n",
       "      <td>ATN261668711</td>\n",
       "      <td>[FOLKMETAL, METAL]</td>\n",
       "      <td>237010.0</td>\n",
       "    </tr>\n",
       "    <tr>\n",
       "      <th>51053</th>\n",
       "      <td>aa4a1d4d44890cbc7aae285842bd3ce2</td>\n",
       "      <td>2019-03-29 21:00:00</td>\n",
       "      <td>Nattfödd</td>\n",
       "      <td>EN</td>\n",
       "      <td>ATN261668712</td>\n",
       "      <td>[FOLKMETAL, METAL]</td>\n",
       "      <td>255320.0</td>\n",
       "    </tr>\n",
       "    <tr>\n",
       "      <th>...</th>\n",
       "      <td>...</td>\n",
       "      <td>...</td>\n",
       "      <td>...</td>\n",
       "      <td>...</td>\n",
       "      <td>...</td>\n",
       "      <td>...</td>\n",
       "      <td>...</td>\n",
       "    </tr>\n",
       "    <tr>\n",
       "      <th>42673</th>\n",
       "      <td>9ca51834e2b6a7266ebcb10cf9a00409</td>\n",
       "      <td>2014-09-23 12:08:24</td>\n",
       "      <td>How Far We've Come</td>\n",
       "      <td>None</td>\n",
       "      <td>USTCF1018560</td>\n",
       "      <td>[ROCK, ALLROCK]</td>\n",
       "      <td>200820.0</td>\n",
       "    </tr>\n",
       "    <tr>\n",
       "      <th>42671</th>\n",
       "      <td>2e04e2ca902c24028b3a7bcded51deeb</td>\n",
       "      <td>2014-09-23 12:08:24</td>\n",
       "      <td>Angel</td>\n",
       "      <td>None</td>\n",
       "      <td>USTCF1018563</td>\n",
       "      <td>[ROCK, ALLROCK]</td>\n",
       "      <td>261490.0</td>\n",
       "    </tr>\n",
       "    <tr>\n",
       "      <th>67314</th>\n",
       "      <td>7eb1ce7b0e7ce4c053c1c9af0ebd9634</td>\n",
       "      <td>2018-11-08 18:31:51</td>\n",
       "      <td>Angel (2009)</td>\n",
       "      <td>EN</td>\n",
       "      <td>USTCF1018563</td>\n",
       "      <td>[ROCK, ALLROCK]</td>\n",
       "      <td>261450.0</td>\n",
       "    </tr>\n",
       "    <tr>\n",
       "      <th>67315</th>\n",
       "      <td>90117fc7a8a5ef80c4d3e1e6e39b4f06</td>\n",
       "      <td>2018-11-08 18:31:51</td>\n",
       "      <td>Breathe (2009)</td>\n",
       "      <td>EN</td>\n",
       "      <td>USTCF1018565</td>\n",
       "      <td>[ROCK, ALLROCK]</td>\n",
       "      <td>221970.0</td>\n",
       "    </tr>\n",
       "    <tr>\n",
       "      <th>42675</th>\n",
       "      <td>734cfd17d9b91ed5e6040aeef988d8cc</td>\n",
       "      <td>2014-09-23 12:08:24</td>\n",
       "      <td>Breathe</td>\n",
       "      <td>None</td>\n",
       "      <td>USTCF1018565</td>\n",
       "      <td>[ROCK, ALLROCK]</td>\n",
       "      <td>222010.0</td>\n",
       "    </tr>\n",
       "  </tbody>\n",
       "</table>\n",
       "<p>292 rows × 7 columns</p>\n",
       "</div>"
      ],
      "text/plain": [
       "                               track_id                dttm  \\\n",
       "27012  be0233f57dbb59079929ac646b0b9d5c 2021-07-06 16:38:30   \n",
       "26955  8aff9d28865aaf1fa44e46b82cba0f63 2021-07-06 15:38:37   \n",
       "51052  196a0973d73122891a426f8334105ce7 2019-03-29 21:00:00   \n",
       "66395  425761c88ebc69e89c748eb537671953 2018-04-28 19:08:26   \n",
       "51053  aa4a1d4d44890cbc7aae285842bd3ce2 2019-03-29 21:00:00   \n",
       "...                                 ...                 ...   \n",
       "42673  9ca51834e2b6a7266ebcb10cf9a00409 2014-09-23 12:08:24   \n",
       "42671  2e04e2ca902c24028b3a7bcded51deeb 2014-09-23 12:08:24   \n",
       "67314  7eb1ce7b0e7ce4c053c1c9af0ebd9634 2018-11-08 18:31:51   \n",
       "67315  90117fc7a8a5ef80c4d3e1e6e39b4f06 2018-11-08 18:31:51   \n",
       "42675  734cfd17d9b91ed5e6040aeef988d8cc 2014-09-23 12:08:24   \n",
       "\n",
       "                              title language          isrc  \\\n",
       "27012         Zivot da stane ne sme     None  ATAJ12100470   \n",
       "26955                         Burma     None  ATAJ12100470   \n",
       "51052  Inní mér syngur vitleysingur       EN  ATN261668711   \n",
       "66395  Inni Mer Syngur Vitleysingur     None  ATN261668711   \n",
       "51053                      Nattfödd       EN  ATN261668712   \n",
       "...                             ...      ...           ...   \n",
       "42673            How Far We've Come     None  USTCF1018560   \n",
       "42671                         Angel     None  USTCF1018563   \n",
       "67314                  Angel (2009)       EN  USTCF1018563   \n",
       "67315                Breathe (2009)       EN  USTCF1018565   \n",
       "42675                       Breathe     None  USTCF1018565   \n",
       "\n",
       "                   genres  duration  \n",
       "27012              [FOLK]  151190.0  \n",
       "26955              [FOLK]  179300.0  \n",
       "51052  [FOLKMETAL, METAL]  237010.0  \n",
       "66395  [FOLKMETAL, METAL]  237010.0  \n",
       "51053  [FOLKMETAL, METAL]  255320.0  \n",
       "...                   ...       ...  \n",
       "42673     [ROCK, ALLROCK]  200820.0  \n",
       "42671     [ROCK, ALLROCK]  261490.0  \n",
       "67314     [ROCK, ALLROCK]  261450.0  \n",
       "67315     [ROCK, ALLROCK]  221970.0  \n",
       "42675     [ROCK, ALLROCK]  222010.0  \n",
       "\n",
       "[292 rows x 7 columns]"
      ]
     },
     "execution_count": 13,
     "metadata": {},
     "output_type": "execute_result"
    }
   ],
   "source": [
    "# Все дубли (кроме nan) с длительностью больше 0\n",
    "meta[meta['isrc'].duplicated(keep=False) & meta['isrc'].notna() & meta['duration'] > 0].sort_values(by='isrc')"
   ]
  },
  {
   "cell_type": "markdown",
   "id": "7b696af8",
   "metadata": {},
   "source": [
    "#### meta.title"
   ]
  },
  {
   "cell_type": "markdown",
   "id": "ffff22dc",
   "metadata": {},
   "source": [
    "Посмотрим дубли в названии:"
   ]
  },
  {
   "cell_type": "code",
   "execution_count": 14,
   "id": "b3978b34",
   "metadata": {
    "scrolled": false
   },
   "outputs": [
    {
     "data": {
      "text/html": [
       "<div>\n",
       "<style scoped>\n",
       "    .dataframe tbody tr th:only-of-type {\n",
       "        vertical-align: middle;\n",
       "    }\n",
       "\n",
       "    .dataframe tbody tr th {\n",
       "        vertical-align: top;\n",
       "    }\n",
       "\n",
       "    .dataframe thead th {\n",
       "        text-align: right;\n",
       "    }\n",
       "</style>\n",
       "<table border=\"1\" class=\"dataframe\">\n",
       "  <thead>\n",
       "    <tr style=\"text-align: right;\">\n",
       "      <th></th>\n",
       "      <th>track_id</th>\n",
       "      <th>dttm</th>\n",
       "      <th>title</th>\n",
       "      <th>language</th>\n",
       "      <th>isrc</th>\n",
       "      <th>genres</th>\n",
       "      <th>duration</th>\n",
       "    </tr>\n",
       "  </thead>\n",
       "  <tbody>\n",
       "    <tr>\n",
       "      <th>71227</th>\n",
       "      <td>467627a4db0315da8f62791aed705083</td>\n",
       "      <td>2019-05-06 21:20:38</td>\n",
       "      <td>(Don't Fear) The Reaper</td>\n",
       "      <td>None</td>\n",
       "      <td>PLS921753188</td>\n",
       "      <td>[]</td>\n",
       "      <td>186570.0</td>\n",
       "    </tr>\n",
       "    <tr>\n",
       "      <th>71220</th>\n",
       "      <td>48509facf3b4e038527a22fc779bc915</td>\n",
       "      <td>2019-05-06 21:20:23</td>\n",
       "      <td>(Don't Fear) The Reaper</td>\n",
       "      <td>None</td>\n",
       "      <td>PLS921753315</td>\n",
       "      <td>[]</td>\n",
       "      <td>191820.0</td>\n",
       "    </tr>\n",
       "    <tr>\n",
       "      <th>71486</th>\n",
       "      <td>aed647e8d9166429c77e1b0e5342d4e0</td>\n",
       "      <td>2019-05-17 17:51:08</td>\n",
       "      <td>(Don't Fear) The Reaper</td>\n",
       "      <td>None</td>\n",
       "      <td>PLS921753236</td>\n",
       "      <td>[]</td>\n",
       "      <td>200730.0</td>\n",
       "    </tr>\n",
       "    <tr>\n",
       "      <th>70573</th>\n",
       "      <td>0f0f37bab3de6ca18a5930d9ed8c0f38</td>\n",
       "      <td>2019-04-09 21:37:34</td>\n",
       "      <td>(Don't Fear) The Reaper</td>\n",
       "      <td>None</td>\n",
       "      <td>PLS921753271</td>\n",
       "      <td>[RELAX]</td>\n",
       "      <td>243090.0</td>\n",
       "    </tr>\n",
       "    <tr>\n",
       "      <th>58782</th>\n",
       "      <td>60558452b17f2a1ef1ee12627d45a320</td>\n",
       "      <td>2021-03-11 21:00:00</td>\n",
       "      <td>(Everything I Do) I Do It for You</td>\n",
       "      <td>None</td>\n",
       "      <td>TCACT1626721</td>\n",
       "      <td>[POP]</td>\n",
       "      <td>123280.0</td>\n",
       "    </tr>\n",
       "    <tr>\n",
       "      <th>...</th>\n",
       "      <td>...</td>\n",
       "      <td>...</td>\n",
       "      <td>...</td>\n",
       "      <td>...</td>\n",
       "      <td>...</td>\n",
       "      <td>...</td>\n",
       "      <td>...</td>\n",
       "    </tr>\n",
       "    <tr>\n",
       "      <th>24940</th>\n",
       "      <td>5075581209bc27ff20452168285b96c8</td>\n",
       "      <td>2021-06-16 09:50:02</td>\n",
       "      <td>银河与星斗</td>\n",
       "      <td>ZH</td>\n",
       "      <td>FRX202173646</td>\n",
       "      <td>[POP]</td>\n",
       "      <td>155100.0</td>\n",
       "    </tr>\n",
       "    <tr>\n",
       "      <th>33684</th>\n",
       "      <td>361397a39eccdd74f09044769d50d096</td>\n",
       "      <td>2021-09-14 21:00:00</td>\n",
       "      <td>거리에서</td>\n",
       "      <td>None</td>\n",
       "      <td>KRF632104051</td>\n",
       "      <td>[JAZZ]</td>\n",
       "      <td>290940.0</td>\n",
       "    </tr>\n",
       "    <tr>\n",
       "      <th>31735</th>\n",
       "      <td>94dd2de0e572e122fb4b6dd41fdb8402</td>\n",
       "      <td>2021-08-29 21:00:00</td>\n",
       "      <td>거리에서</td>\n",
       "      <td>None</td>\n",
       "      <td>KRF632103686</td>\n",
       "      <td>[JAZZ]</td>\n",
       "      <td>291890.0</td>\n",
       "    </tr>\n",
       "    <tr>\n",
       "      <th>33685</th>\n",
       "      <td>3c306bdc546a89d71c40e549c33e6369</td>\n",
       "      <td>2021-09-14 21:00:00</td>\n",
       "      <td>내 마음에 비친 내 모습</td>\n",
       "      <td>None</td>\n",
       "      <td>KRF632104052</td>\n",
       "      <td>[JAZZ]</td>\n",
       "      <td>279250.0</td>\n",
       "    </tr>\n",
       "    <tr>\n",
       "      <th>31734</th>\n",
       "      <td>0609788efbd5edd0954bbeeb39d2c469</td>\n",
       "      <td>2021-08-29 21:00:00</td>\n",
       "      <td>내 마음에 비친 내 모습</td>\n",
       "      <td>None</td>\n",
       "      <td>KRF632103685</td>\n",
       "      <td>[JAZZ]</td>\n",
       "      <td>280370.0</td>\n",
       "    </tr>\n",
       "  </tbody>\n",
       "</table>\n",
       "<p>35336 rows × 7 columns</p>\n",
       "</div>"
      ],
      "text/plain": [
       "                               track_id                dttm  \\\n",
       "71227  467627a4db0315da8f62791aed705083 2019-05-06 21:20:38   \n",
       "71220  48509facf3b4e038527a22fc779bc915 2019-05-06 21:20:23   \n",
       "71486  aed647e8d9166429c77e1b0e5342d4e0 2019-05-17 17:51:08   \n",
       "70573  0f0f37bab3de6ca18a5930d9ed8c0f38 2019-04-09 21:37:34   \n",
       "58782  60558452b17f2a1ef1ee12627d45a320 2021-03-11 21:00:00   \n",
       "...                                 ...                 ...   \n",
       "24940  5075581209bc27ff20452168285b96c8 2021-06-16 09:50:02   \n",
       "33684  361397a39eccdd74f09044769d50d096 2021-09-14 21:00:00   \n",
       "31735  94dd2de0e572e122fb4b6dd41fdb8402 2021-08-29 21:00:00   \n",
       "33685  3c306bdc546a89d71c40e549c33e6369 2021-09-14 21:00:00   \n",
       "31734  0609788efbd5edd0954bbeeb39d2c469 2021-08-29 21:00:00   \n",
       "\n",
       "                                   title language          isrc   genres  \\\n",
       "71227            (Don't Fear) The Reaper     None  PLS921753188       []   \n",
       "71220            (Don't Fear) The Reaper     None  PLS921753315       []   \n",
       "71486            (Don't Fear) The Reaper     None  PLS921753236       []   \n",
       "70573            (Don't Fear) The Reaper     None  PLS921753271  [RELAX]   \n",
       "58782  (Everything I Do) I Do It for You     None  TCACT1626721    [POP]   \n",
       "...                                  ...      ...           ...      ...   \n",
       "24940                              银河与星斗       ZH  FRX202173646    [POP]   \n",
       "33684                               거리에서     None  KRF632104051   [JAZZ]   \n",
       "31735                               거리에서     None  KRF632103686   [JAZZ]   \n",
       "33685                      내 마음에 비친 내 모습     None  KRF632104052   [JAZZ]   \n",
       "31734                      내 마음에 비친 내 모습     None  KRF632103685   [JAZZ]   \n",
       "\n",
       "       duration  \n",
       "71227  186570.0  \n",
       "71220  191820.0  \n",
       "71486  200730.0  \n",
       "70573  243090.0  \n",
       "58782  123280.0  \n",
       "...         ...  \n",
       "24940  155100.0  \n",
       "33684  290940.0  \n",
       "31735  291890.0  \n",
       "33685  279250.0  \n",
       "31734  280370.0  \n",
       "\n",
       "[35336 rows x 7 columns]"
      ]
     },
     "execution_count": 14,
     "metadata": {},
     "output_type": "execute_result"
    }
   ],
   "source": [
    "meta[meta['title'].duplicated(keep=False)].sort_values(by='title')"
   ]
  },
  {
   "cell_type": "markdown",
   "id": "31335433",
   "metadata": {},
   "source": [
    "#### meta.duration"
   ]
  },
  {
   "cell_type": "code",
   "execution_count": 15,
   "id": "13ffd067",
   "metadata": {},
   "outputs": [
    {
     "data": {
      "text/plain": [
       "count    7.176800e+04\n",
       "mean     2.049187e+05\n",
       "std      8.559854e+04\n",
       "min      0.000000e+00\n",
       "25%      1.613700e+05\n",
       "50%      1.993950e+05\n",
       "75%      2.390700e+05\n",
       "max      5.487300e+06\n",
       "Name: duration, dtype: float64"
      ]
     },
     "execution_count": 15,
     "metadata": {},
     "output_type": "execute_result"
    }
   ],
   "source": [
    "meta['duration'].describe()"
   ]
  },
  {
   "cell_type": "code",
   "execution_count": 16,
   "id": "0216d110",
   "metadata": {
    "scrolled": true
   },
   "outputs": [
    {
     "data": {
      "image/png": "[encoded data removed]",
      "text/plain": [
       "<Figure size 640x480 with 1 Axes>"
      ]
     },
     "metadata": {},
     "output_type": "display_data"
    }
   ],
   "source": [
    "# До Q1\n",
    "meta[meta['duration'] < 161370]['duration'].hist(bins=100);"
   ]
  },
  {
   "cell_type": "code",
   "execution_count": 17,
   "id": "1162785e",
   "metadata": {},
   "outputs": [
    {
     "data": {
      "image/png": "[encoded data removed]",
      "text/plain": [
       "<Figure size 640x480 with 1 Axes>"
      ]
     },
     "metadata": {},
     "output_type": "display_data"
    }
   ],
   "source": [
    "# После Q3\n",
    "meta[meta['duration'] > 239070]['duration'].hist(bins=50);"
   ]
  },
  {
   "cell_type": "code",
   "execution_count": 18,
   "id": "f346e403",
   "metadata": {},
   "outputs": [
    {
     "data": {
      "text/plain": [
       "369"
      ]
     },
     "execution_count": 18,
     "metadata": {},
     "output_type": "execute_result"
    }
   ],
   "source": [
    "#  длит.трека==0\n",
    "len(meta.loc[meta['duration']==0])"
   ]
  },
  {
   "cell_type": "code",
   "execution_count": 19,
   "id": "c11c7be3",
   "metadata": {},
   "outputs": [
    {
     "data": {
      "text/plain": [
       "382"
      ]
     },
     "execution_count": 19,
     "metadata": {},
     "output_type": "execute_result"
    }
   ],
   "source": [
    "# длит.трека < 10 sec\n",
    "len(meta[meta['duration'] < 10000]['duration'])"
   ]
  },
  {
   "cell_type": "code",
   "execution_count": 20,
   "id": "dd1b07d7",
   "metadata": {},
   "outputs": [
    {
     "data": {
      "text/plain": [
       "186"
      ]
     },
     "execution_count": 20,
     "metadata": {},
     "output_type": "execute_result"
    }
   ],
   "source": [
    "# длит.трека > 10 min\n",
    "len(meta[meta['duration'] > 600000]['duration'])"
   ]
  },
  {
   "cell_type": "markdown",
   "id": "f3c9d413",
   "metadata": {},
   "source": [
    "#### meta.dttm"
   ]
  },
  {
   "cell_type": "code",
   "execution_count": 21,
   "id": "677787a3",
   "metadata": {},
   "outputs": [
    {
     "ename": "TypeError",
     "evalue": "NDFrame.describe() got an unexpected keyword argument 'datetime_is_numeric'",
     "output_type": "error",
     "traceback": [
      "\u001b[1;31m---------------------------------------------------------------------------\u001b[0m",
      "\u001b[1;31mTypeError\u001b[0m                                 Traceback (most recent call last)",
      "Cell \u001b[1;32mIn[21], line 1\u001b[0m\n\u001b[1;32m----> 1\u001b[0m meta[\u001b[38;5;124m'\u001b[39m\u001b[38;5;124mdttm\u001b[39m\u001b[38;5;124m'\u001b[39m]\u001b[38;5;241m.\u001b[39mdescribe(datetime_is_numeric\u001b[38;5;241m=\u001b[39m\u001b[38;5;28;01mTrue\u001b[39;00m)\n",
      "\u001b[1;31mTypeError\u001b[0m: NDFrame.describe() got an unexpected keyword argument 'datetime_is_numeric'"
     ]
    }
   ],
   "source": [
    "meta['dttm'].describe(datetime_is_numeric=True)"
   ]
  },
  {
   "cell_type": "markdown",
   "id": "53437507",
   "metadata": {},
   "source": [
    "#### meta.genres"
   ]
  },
  {
   "cell_type": "code",
   "execution_count": 22,
   "id": "48d0a8e7",
   "metadata": {},
   "outputs": [
    {
     "data": {
      "text/plain": [
       "genres\n",
       "[FOLK, LATINFOLK]              18391\n",
       "[POP]                          13157\n",
       "[ROCK, ALLROCK]                 5898\n",
       "[ALTERNATIVE]                   3570\n",
       "[FOLK]                          2645\n",
       "[]                              2352\n",
       "[ELECTRONICS]                   2231\n",
       "[SOUNDTRACK]                    2181\n",
       "[DANCE]                         2166\n",
       "[SPIRITUAL]                     1552\n",
       "[RAP]                           1531\n",
       "[POP, RUSPOP]                   1436\n",
       "[CLASSICAL, CLASSICALMUSIC]      980\n",
       "[JAZZ]                           818\n",
       "[CLASSICMETAL, METAL]            666\n",
       "[RUSRAP, RAP]                    645\n",
       "[FOREIGNBARD, BARD]              581\n",
       "[METAL]                          558\n",
       "[COUNTRY]                        502\n",
       "[PUNK]                           500\n",
       "[CLASSICALMUSIC, VOCAL]          467\n",
       "[RELAX]                          409\n",
       "[INDIE]                          402\n",
       "[CHILDREN]                       387\n",
       "[REGGAE, REGGAETON]              347\n",
       "[FOREIGNRAP, RAP]                332\n",
       "[SOUL, RNB]                      327\n",
       "[ELECTRONICS, HOUSE]             326\n",
       "[REGGAE]                         318\n",
       "[RNB]                            281\n",
       "Name: count, dtype: int64"
      ]
     },
     "execution_count": 22,
     "metadata": {},
     "output_type": "execute_result"
    }
   ],
   "source": [
    "meta.genres.value_counts().head(30)"
   ]
  },
  {
   "cell_type": "markdown",
   "id": "8e5582b8",
   "metadata": {},
   "source": [
    "#### meta.language"
   ]
  },
  {
   "cell_type": "code",
   "execution_count": 23,
   "id": "717c2adb",
   "metadata": {},
   "outputs": [
    {
     "data": {
      "text/plain": [
       "language\n",
       "EN    15322\n",
       "ES     1747\n",
       "RU     1558\n",
       "IT      907\n",
       "HI      285\n",
       "DE      238\n",
       "ZH      212\n",
       "FR      210\n",
       "JA      174\n",
       "VI      162\n",
       "TH      162\n",
       "PT      114\n",
       "ID      111\n",
       "PA       50\n",
       "SI       49\n",
       "TA       49\n",
       "ML       47\n",
       "TR       43\n",
       "AR       41\n",
       "PL       35\n",
       "HT       33\n",
       "MR       32\n",
       "RO       32\n",
       "HU       22\n",
       "TL       21\n",
       "AF       20\n",
       "UK       18\n",
       "HR       18\n",
       "CS       17\n",
       "BN       17\n",
       "Name: count, dtype: int64"
      ]
     },
     "execution_count": 23,
     "metadata": {},
     "output_type": "execute_result"
    }
   ],
   "source": [
    "meta.language.value_counts().head(30)"
   ]
  },
  {
   "cell_type": "markdown",
   "id": "02306449",
   "metadata": {},
   "source": [
    "### Выводы: \n",
    "\n",
    "Провели тщательный анализ имеющихся признаков.\n",
    "Выяснили, что очень мало размечено исходников для каверов, всего 528 строк."
   ]
  },
  {
   "cell_type": "markdown",
   "id": "0b6d229d",
   "metadata": {},
   "source": [
    "## Предоработка данных"
   ]
  },
  {
   "cell_type": "code",
   "execution_count": 24,
   "id": "fd40d734",
   "metadata": {},
   "outputs": [
    {
     "data": {
      "text/plain": [
       "(71769, 7)"
      ]
     },
     "execution_count": 24,
     "metadata": {},
     "output_type": "execute_result"
    }
   ],
   "source": [
    "meta.shape #check"
   ]
  },
  {
   "cell_type": "markdown",
   "id": "5a33d823",
   "metadata": {},
   "source": [
    "Удалим композиции продолжительностью больше 10 минут и менее 10 секунд, т.к. это скорее всего - не музыкальные треки и их немного"
   ]
  },
  {
   "cell_type": "code",
   "execution_count": 25,
   "id": "23e5a48a",
   "metadata": {
    "scrolled": true
   },
   "outputs": [
    {
     "data": {
      "text/plain": [
       "(71198, 7)"
      ]
     },
     "execution_count": 25,
     "metadata": {},
     "output_type": "execute_result"
    }
   ],
   "source": [
    "meta=meta.loc[(meta['duration'] < 600000) & (meta['duration'] > 10000) ]\n",
    "meta.shape #check"
   ]
  },
  {
   "cell_type": "markdown",
   "id": "c1f5c530",
   "metadata": {},
   "source": [
    "Также есть полностью пропущенная строка, удалим ее. "
   ]
  },
  {
   "cell_type": "code",
   "execution_count": 26,
   "id": "dc4fb35f",
   "metadata": {
    "scrolled": false
   },
   "outputs": [
    {
     "data": {
      "text/html": [
       "<div>\n",
       "<style scoped>\n",
       "    .dataframe tbody tr th:only-of-type {\n",
       "        vertical-align: middle;\n",
       "    }\n",
       "\n",
       "    .dataframe tbody tr th {\n",
       "        vertical-align: top;\n",
       "    }\n",
       "\n",
       "    .dataframe thead th {\n",
       "        text-align: right;\n",
       "    }\n",
       "</style>\n",
       "<table border=\"1\" class=\"dataframe\">\n",
       "  <thead>\n",
       "    <tr style=\"text-align: right;\">\n",
       "      <th></th>\n",
       "      <th>track_id</th>\n",
       "      <th>dttm</th>\n",
       "      <th>title</th>\n",
       "      <th>language</th>\n",
       "      <th>isrc</th>\n",
       "      <th>genres</th>\n",
       "      <th>duration</th>\n",
       "    </tr>\n",
       "  </thead>\n",
       "  <tbody>\n",
       "  </tbody>\n",
       "</table>\n",
       "</div>"
      ],
      "text/plain": [
       "Empty DataFrame\n",
       "Columns: [track_id, dttm, title, language, isrc, genres, duration]\n",
       "Index: []"
      ]
     },
     "execution_count": 26,
     "metadata": {},
     "output_type": "execute_result"
    }
   ],
   "source": [
    "meta[meta['track_id'].isna()]"
   ]
  },
  {
   "cell_type": "code",
   "execution_count": 27,
   "id": "44888003",
   "metadata": {},
   "outputs": [
    {
     "data": {
      "text/plain": [
       "(71198, 7)"
      ]
     },
     "execution_count": 27,
     "metadata": {},
     "output_type": "execute_result"
    }
   ],
   "source": [
    "meta = meta.dropna(subset=['track_id'])\n",
    "meta.shape #check"
   ]
  },
  {
   "cell_type": "markdown",
   "id": "8a8adfb2",
   "metadata": {},
   "source": [
    "Заполним пропуски в колонке `language`"
   ]
  },
  {
   "cell_type": "code",
   "execution_count": 28,
   "id": "38a8a67d",
   "metadata": {},
   "outputs": [
    {
     "data": {
      "text/plain": [
       "49454"
      ]
     },
     "execution_count": 28,
     "metadata": {},
     "output_type": "execute_result"
    }
   ],
   "source": [
    "meta['language'].isna().sum()"
   ]
  },
  {
   "cell_type": "code",
   "execution_count": 29,
   "id": "93d1baa2",
   "metadata": {},
   "outputs": [],
   "source": [
    "def detect_language(text, label):\n",
    "    \"\"\"\n",
    "    Заполняет пропуски.\n",
    "    Определяет язык текста и возвращает метку языка (ISO 639-1), если 'label' равно NaN.\n",
    "\n",
    "    Args:\n",
    "        text (str): Текст, для которого нужно определить язык.\n",
    "        label (str): Столбец, в котором нужно обновить значение, если 'label' равно NaN.\n",
    "    Returns:\n",
    "        str: Метка языка в вернем регистре (ISO 639-1)\n",
    "    \"\"\"\n",
    "    if pd.isna(label):\n",
    "        try:\n",
    "            return detect(text).upper()\n",
    "        except:\n",
    "            return None\n",
    "    else:\n",
    "        return label"
   ]
  },
  {
   "cell_type": "code",
   "execution_count": 30,
   "id": "2a7b7f2f",
   "metadata": {},
   "outputs": [
    {
     "data": {
      "text/plain": [
       "69"
      ]
     },
     "execution_count": 30,
     "metadata": {},
     "output_type": "execute_result"
    }
   ],
   "source": [
    "meta['language'] = meta.apply(lambda row: detect_language(row['title'], row['language']), axis=1)\n",
    "meta['language'].isna().sum()"
   ]
  },
  {
   "cell_type": "markdown",
   "id": "77785d1e",
   "metadata": {},
   "source": [
    "### Выводы: \n",
    "Удалили строки с очень короткой и очень длинной продолжительностью трека, также удалили некоторые дубликаты и пропуски."
   ]
  },
  {
   "cell_type": "markdown",
   "id": "0275fc63",
   "metadata": {},
   "source": [
    "## Фича-инжиниринг: сгенерировать дополнительные признаки"
   ]
  },
  {
   "cell_type": "markdown",
   "id": "127a6858",
   "metadata": {},
   "source": [
    "## ЗАДАЧА 1: Классификация оригинал/кавер"
   ]
  },
  {
   "cell_type": "markdown",
   "id": "cccec8d0",
   "metadata": {},
   "source": [
    "### Метрики"
   ]
  },
  {
   "cell_type": "markdown",
   "id": "b4aedabe",
   "metadata": {},
   "source": [
    "### Разработка ML-модели"
   ]
  },
  {
   "cell_type": "markdown",
   "id": "883e311c",
   "metadata": {},
   "source": [
    "## ЗАДАЧА 2: Поиск всех каверов"
   ]
  },
  {
   "cell_type": "markdown",
   "id": "783e3061",
   "metadata": {},
   "source": [
    "## Итоговый вывод:"
   ]
  },
  {
   "cell_type": "code",
   "execution_count": null,
   "id": "ce40626f",
   "metadata": {},
   "outputs": [],
   "source": []
  }
 ],
 "metadata": {
  "kernelspec": {
   "display_name": "Python 3 (ipykernel)",
   "language": "python",
   "name": "python3"
  },
  "language_info": {
   "codemirror_mode": {
    "name": "ipython",
    "version": 3
   },
   "file_extension": ".py",
   "mimetype": "text/x-python",
   "name": "python",
   "nbconvert_exporter": "python",
   "pygments_lexer": "ipython3",
   "version": "3.11.5"
  },
  "toc": {
   "base_numbering": 1,
   "nav_menu": {},
   "number_sections": true,
   "sideBar": true,
   "skip_h1_title": true,
   "title_cell": "Table of Contents",
   "title_sidebar": "Contents",
   "toc_cell": true,
   "toc_position": {
    "height": "calc(100% - 180px)",
    "left": "10px",
    "top": "150px",
    "width": "273.523px"
   },
   "toc_section_display": true,
   "toc_window_display": true
  }
 },
 "nbformat": 4,
 "nbformat_minor": 5
}
